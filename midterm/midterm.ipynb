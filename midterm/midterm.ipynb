{
 "cells": [
  {
   "cell_type": "markdown",
   "metadata": {},
   "source": [
    "# HDS5210-2022 Fall Midterm\n",
    "\n",
    "In the midterm exercise, you're going to use all the programming and data management skills you've developed so far to build a pricing calculator that will calculate how much money should be reimbursed for the visits in a CSV file. To do this, you will need to get allowed amounts (aka rates) from a JSON file, apply some special rules, and then calculate various totals by hospital or by month.\n",
    "\n",
    "Each step of the midterm will build up to form your final solution. Along the way, I've provided plenty of test cases to make sure you're getting each step correct.\n",
    "\n",
    "All functions require docstrings with a description and at least one test case.\n",
    "\n",
    "The midterm is due Monday, October 24th at 11:59 PM CST.\n",
    "\n",
    "---"
   ]
  },
  {
   "cell_type": "markdown",
   "metadata": {},
   "source": [
    "## Step 1: Average Rate\n",
    "\n",
    "With the `/data/negotiated_rates.json` file as input for your first function, read all the `allowed_amount` attributes and calculate an average allowed amount over all rates in the file.\n",
    "\n",
    "Your function should be named **average_rate()**, take the file's name as it's input parameter, and return a float as the result.\n",
    "\n",
    "**ROUND YOUR ANSWER TO 2 DECIMAL PLACES**"
   ]
  },
  {
   "cell_type": "code",
   "execution_count": 1,
   "metadata": {},
   "outputs": [],
   "source": [
    "import json\n",
    "from statistics import mean \n",
    "\n",
    "\n",
    "def average_rate(file):\n",
    "    \"\"\"(str) -> float\n",
    "    The function is designed to calculate the average price of all the listed prices for hospital care and services for those out of network.\n",
    "    The listing belonds to United HealthCare Services, Inc., a Third-Party Administrator\n",
    "    \n",
    "    >>> average_rate('/data/negotiated_rates.json')\n",
    "    38.67\n",
    "    \"\"\"\n",
    "    price_list = []\n",
    "    price_rate = open(file)\n",
    "    price_rate_json = json.load(price_rate)\n",
    "    out_of_networks = price_rate_json.get(\"out_of_network\")\n",
    "    \n",
    "    for out_of_network in out_of_networks:\n",
    "        allowed_amounts = out_of_network.get(\"allowed_amounts\")\n",
    "        \n",
    "        for allowed_amount in allowed_amounts:\n",
    "            entry = allowed_amount.get(\"payments\").get(\"allowed_amount\")\n",
    "            price_list.append(entry)\n",
    "            avg_price = round(mean(price_list), 2)\n",
    "            \n",
    "    return avg_price\n"
   ]
  },
  {
   "cell_type": "code",
   "execution_count": 2,
   "metadata": {},
   "outputs": [
    {
     "name": "stdout",
     "output_type": "stream",
     "text": [
      "Finding tests in NoName\n",
      "Trying:\n",
      "    average_rate('/data/negotiated_rates.json')\n",
      "Expecting:\n",
      "    38.67\n",
      "ok\n"
     ]
    }
   ],
   "source": [
    "import doctest\n",
    "doctest.run_docstring_examples(average_rate, globals(), verbose=True)"
   ]
  },
  {
   "cell_type": "code",
   "execution_count": 3,
   "metadata": {},
   "outputs": [],
   "source": [
    "assert(average_rate('/data/negotiated_rates.json') == 38.67)"
   ]
  },
  {
   "cell_type": "code",
   "execution_count": null,
   "metadata": {},
   "outputs": [],
   "source": []
  },
  {
   "cell_type": "markdown",
   "metadata": {},
   "source": [
    "---\n",
    "\n",
    "## Step 2: Rate for a Billing Code / Service Code Combination\n",
    "\n",
    "For the next step, we need to be able to look up the allowed amount for any given billing code / service code combination.\n",
    "\n",
    "In this data, the billing code represents the service or procedure that was provided. The service code represents the type of site where the service was provided.\n",
    "\n",
    "Your function should be named **get_rate()** and take three parameters: the JSON file name, the billing code, and the service code. If your code can't find that combination in the file, it should return None."
   ]
  },
  {
   "cell_type": "code",
   "execution_count": 4,
   "metadata": {},
   "outputs": [],
   "source": [
    "import json\n",
    "\n",
    "def get_rate(file, billing_code, service_code):\n",
    "    \"\"\"(str, str, str) -> float\n",
    "    The function is designated to find the price rate of the hospital service using the billing code and the service code as its parameters.\n",
    "    \n",
    "    >>> get_rate('/data/negotiated_rates.json','97110','11')\n",
    "    21.51\n",
    "    \n",
    "    >>> get_rate('/data/negotiated_rates.json','99233','21')\n",
    "    100.35\n",
    "    \n",
    "    \"\"\"\n",
    "    price_rate = open(file)\n",
    "    price_rate_json = json.load(price_rate)\n",
    "    out_of_networks = price_rate_json.get(\"out_of_network\")\n",
    "    rate_list = []\n",
    "    \n",
    "    for out_of_network in out_of_networks:\n",
    "        allowed_amounts = out_of_network.get(\"allowed_amounts\")\n",
    "        billing_id = out_of_network.get(\"billing_code\")\n",
    "        \n",
    "        for allowed_amount in allowed_amounts:\n",
    "            service_id = allowed_amount.get(\"service_code\")\n",
    "            price = allowed_amount.get(\"payments\").get(\"allowed_amount\")\n",
    "            rate_list.append([billing_id, service_id, price])\n",
    "    \n",
    "    for price_list in rate_list:\n",
    "        if billing_code == price_list[0] and service_code == price_list[1]:\n",
    "            return price_list[2]\n",
    "        else:\n",
    "            result = None\n",
    "            \n",
    "    return result\n",
    "    "
   ]
  },
  {
   "cell_type": "code",
   "execution_count": 5,
   "metadata": {},
   "outputs": [
    {
     "name": "stdout",
     "output_type": "stream",
     "text": [
      "Finding tests in NoName\n",
      "Trying:\n",
      "    get_rate('/data/negotiated_rates.json','97110','11')\n",
      "Expecting:\n",
      "    21.51\n",
      "ok\n",
      "Trying:\n",
      "    get_rate('/data/negotiated_rates.json','99233','21')\n",
      "Expecting:\n",
      "    100.35\n",
      "ok\n"
     ]
    }
   ],
   "source": [
    "import doctest\n",
    "doctest.run_docstring_examples(get_rate, globals(), verbose=True)"
   ]
  },
  {
   "cell_type": "code",
   "execution_count": 6,
   "metadata": {},
   "outputs": [],
   "source": [
    "assert (get_rate('/data/negotiated_rates.json','G0283','11') == 8.78)\n",
    "assert (get_rate('/data/negotiated_rates.json','97140','11') == 20.03)\n",
    "assert (get_rate('/data/negotiated_rates.json','97110','12') == 26.62)"
   ]
  },
  {
   "cell_type": "code",
   "execution_count": null,
   "metadata": {},
   "outputs": [],
   "source": []
  },
  {
   "cell_type": "markdown",
   "metadata": {},
   "source": [
    "---\n",
    "\n",
    "## Part 3: Special Rules for Rates\n",
    "\n",
    "There are some special rules for adjusting rates depending on a patient's age and the day of week.  (These are made up. Not from the real world.) In the next part of the midterm, you'll need to create a function that applies these extra rules to a rate and return the adjusted value.\n",
    "\n",
    "1. If the day of week is Monday, charge only 75% of the allowed amount.\n",
    "2. If the patient's age is 65 or higher, charge only 50% of the allowed amount.\n",
    "3. If's both Monday and the patient's age is 65 or higher, charge only 50% of the allowed amount.\n",
    "4. If neither of these conditions are true, charge the whole amount.\n",
    "\n",
    "Your function should be named **get_adjusted_rate()** and take five parameters: file name, billing code, service code, patient age, and visit date.  Your function should return the adjusted rate (based on the rules above) or None if the rate couldn't be found in the file.\n",
    "\n",
    "Note that your function will take a date in the form `%Y-%m-%d` ([see datetime.strptime()](https://docs.python.org/3/library/datetime.html#datetime.datetime.strptime)) and will need to calculate the [day of week](https://docs.python.org/3/library/datetime.html#datetime.date.weekday).\n",
    "\n",
    "**ROUND YOUR ANSWER TO 2 DECIMAL PLACES**"
   ]
  },
  {
   "cell_type": "code",
   "execution_count": 7,
   "metadata": {},
   "outputs": [],
   "source": [
    "import datetime\n",
    "\n",
    "def get_adjusted_rate(file, billing_code, service_code, pat_age, visit_date):\n",
    "    \"\"\"(str, str, str, float, str) -> float\n",
    "    The function is designated to find the adjusted price rate of the hospital service while adjusting based on the patient's age and the day of the week, using the rate from the function \"get_rate\".\n",
    "    \n",
    "    >>> get_adjusted_rate('/data/negotiated_rates.json','G0283','11',76,'2022-01-03')\n",
    "    4.39\n",
    "    \n",
    "    >>> get_adjusted_rate('/data/negotiated_rates.json','G0283','11',76,'2022-01-08')\n",
    "    4.39\n",
    "    \n",
    "    \"\"\"\n",
    "    before_adj_price = get_rate(file, billing_code, service_code)\n",
    "    \n",
    "    date_string = datetime.datetime.strptime(visit_date, '%Y-%m-%d')\n",
    "    date_of_week = datetime.datetime.date(date_string).weekday()\n",
    "\n",
    "    if date_of_week == 0 and pat_age >= 65:\n",
    "        adjusted_price = .5 * before_adj_price\n",
    "    elif date_of_week == 0:\n",
    "        adjusted_price = .75 * before_adj_price\n",
    "    elif pat_age >= 65:\n",
    "        adjusted_price = .5 * before_adj_price\n",
    "    elif date_of_week != 0 and pat_age < 65:\n",
    "        adjusted_price = before_adj_price\n",
    "    else:\n",
    "        return None\n",
    "        \n",
    "    return round(adjusted_price, 2)"
   ]
  },
  {
   "cell_type": "code",
   "execution_count": 8,
   "metadata": {},
   "outputs": [
    {
     "name": "stdout",
     "output_type": "stream",
     "text": [
      "Finding tests in NoName\n",
      "Trying:\n",
      "    get_adjusted_rate('/data/negotiated_rates.json','G0283','11',76,'2022-01-03')\n",
      "Expecting:\n",
      "    4.39\n",
      "ok\n",
      "Trying:\n",
      "    get_adjusted_rate('/data/negotiated_rates.json','G0283','11',76,'2022-01-08')\n",
      "Expecting:\n",
      "    4.39\n",
      "ok\n"
     ]
    }
   ],
   "source": [
    "import doctest\n",
    "doctest.run_docstring_examples(get_adjusted_rate, globals(), verbose=True)"
   ]
  },
  {
   "cell_type": "code",
   "execution_count": 9,
   "metadata": {},
   "outputs": [],
   "source": [
    "assert (get_adjusted_rate('/data/negotiated_rates.json','G0283','11',22,'2022-01-07') == 8.78)\n",
    "assert (get_adjusted_rate('/data/negotiated_rates.json','G0283','11',22,'2022-01-03') == 6.58)\n",
    "assert (get_adjusted_rate('/data/negotiated_rates.json','G0283','11',76,'2022-01-03') == 4.39)\n",
    "assert (get_adjusted_rate('/data/negotiated_rates.json','G0283','11',76,'2022-01-08') == 4.39)"
   ]
  },
  {
   "cell_type": "code",
   "execution_count": null,
   "metadata": {},
   "outputs": [],
   "source": []
  },
  {
   "cell_type": "markdown",
   "metadata": {},
   "source": [
    "---\n",
    "\n",
    "## Step 4: Calculate total payments for a list of visits\n",
    "\n",
    "Last step, we're going to put your get_adjusted_rate() function to work on a list of visits from a few hospitals in the St. Louis region.\n",
    "\n",
    "Your last function, **summarize_reimbursement()** needs to read an encounter file and the negotiated rates file, compute an adjusted rate for each encounter (row) in the input file, and return two dictionaries of information:\n",
    "1. Total expected reimbursement by month\n",
    "2. Total expected reimbursement by hospital\n",
    "\n",
    "Your should be able to run your function as `by_month, by_hospital = summarize_reimbursement(visits, negotiated_rates)` and have the two answers below:\n",
    "\n",
    "**by_month**\n",
    "```json\n",
    "{\n",
    "    '2021-05': 192.38,\n",
    "    '2021-03': 378.72,\n",
    "    '2021-07': 277.67,\n",
    "    '2021-06': 236.53,\n",
    "    '2021-11': 229.7,\n",
    "    '2021-10': 234.52,\n",
    "    '2021-12': 297.87,\n",
    "    '2021-04': 337.7,\n",
    "    '2021-09': 160.4,\n",
    "    '2021-01': 111.91,\n",
    "    '2021-02': 158.55,\n",
    "    '2021-08': 152.28\n",
    "}\n",
    "```\n",
    "\n",
    "**by_hospital**\n",
    "```json\n",
    "{\n",
    "    'Missouri Baptist': 514.18,\n",
    "    'SSM DePaul': 460.02,\n",
    "    'SLU Hospital': 409.67,\n",
    "    'Barnes Jewish': 485.7,\n",
    "    'Mercy Springfield': 518.59,\n",
    "    'Mercy St. Louis': 380.07\n",
    "}\n",
    "```\n",
    "\n",
    "**Round your totals to 2 decimal places**\n",
    "\n",
    "**If rates are not found, just ignore them**"
   ]
  },
  {
   "cell_type": "code",
   "execution_count": 18,
   "metadata": {},
   "outputs": [],
   "source": [
    "import json\n",
    "import csv\n",
    "import datetime\n",
    "\n",
    "def summarize_reimbursement(visits, negotiated_rates):\n",
    "    \"\"\"(str, str) -> dict, dict\n",
    "    The function is designed to calculate the total monetary amount of each visit using the function \"get_adjusted_rate\",\n",
    "    then the total is quantitated based on either the month or the hospital.\n",
    "    \n",
    "    >>> summarize_reimbursement('/data/visits.csv','/data/negotiated_rates.json')[0]['2021-08']\n",
    "    152.28\n",
    "    \n",
    "    >>> summarize_reimbursement('/data/visits.csv','/data/negotiated_rates.json')[1]['SLU Hospital']\n",
    "    409.67\n",
    "    \n",
    "    >>> summarize_reimbursement('/data/visits.csv','/data/negotiated_rates.json')[1]['Barnes Jewish']\n",
    "    485.7\n",
    "    \n",
    "    \"\"\"\n",
    "    \n",
    "    by_month_total = {}\n",
    "    by_hospital_total = {}\n",
    "    price_rate = open(negotiated_rates)\n",
    "    price_rate_json = json.load(price_rate)\n",
    "    with open(visits) as visits_file:\n",
    "        csv_reader = csv.reader(visits_file)\n",
    "        next (csv_reader, None)\n",
    "        counter = 0\n",
    "        max_lines = 200\n",
    "        for line in csv_reader:\n",
    "            hospital = line[1]\n",
    "            pat_age = int(line[3])\n",
    "            billing_code = line[4]\n",
    "            service_code = line[5]\n",
    "            visit_date = line[6]\n",
    "            file = negotiated_rates\n",
    "            year_month = line[6][:7]\n",
    "            \n",
    "            by_month_total.setdefault(year_month, 0)\n",
    "            by_hospital_total.setdefault(hospital, 0)\n",
    "            try:\n",
    "                price = get_adjusted_rate(file, billing_code, service_code, pat_age, visit_date)\n",
    "                \n",
    "                by_month_total[year_month] += price\n",
    "                by_hospital_total[hospital] += price\n",
    "            except Exception:\n",
    "                continue\n",
    "\n",
    "    for month, total in by_month_total.items():\n",
    "        by_month_total[month] = round(total, 2)\n",
    "    for hospital, total in by_hospital_total.items():\n",
    "        by_hospital_total[hospital] = round(total, 2)\n",
    "    \n",
    "    return by_month_total, by_hospital_total\n",
    "            "
   ]
  },
  {
   "cell_type": "code",
   "execution_count": 19,
   "metadata": {},
   "outputs": [
    {
     "data": {
      "text/plain": [
       "({'2021-05': 192.38,\n",
       "  '2021-03': 378.72,\n",
       "  '2021-07': 277.67,\n",
       "  '2021-06': 236.53,\n",
       "  '2021-11': 229.7,\n",
       "  '2021-10': 234.52,\n",
       "  '2021-12': 297.87,\n",
       "  '2021-04': 337.7,\n",
       "  '2021-09': 160.4,\n",
       "  '2021-02': 158.55,\n",
       "  '2021-01': 111.91,\n",
       "  '2021-08': 152.28},\n",
       " {'Missouri Baptist': 514.18,\n",
       "  'SSM DePaul': 460.02,\n",
       "  'SLU Hospital': 409.67,\n",
       "  'Mercy St. Louis': 380.07,\n",
       "  'Barnes Jewish': 485.7,\n",
       "  'Mercy Springfield': 518.59})"
      ]
     },
     "execution_count": 19,
     "metadata": {},
     "output_type": "execute_result"
    }
   ],
   "source": [
    "summarize_reimbursement('/data/visits.csv','/data/negotiated_rates.json')"
   ]
  },
  {
   "cell_type": "code",
   "execution_count": 12,
   "metadata": {},
   "outputs": [
    {
     "name": "stdout",
     "output_type": "stream",
     "text": [
      "Finding tests in NoName\n",
      "Trying:\n",
      "    summarize_reimbursement('/data/visits.csv','/data/negotiated_rates.json')[0]['2021-08']\n",
      "Expecting:\n",
      "    152.28\n",
      "ok\n",
      "Trying:\n",
      "    summarize_reimbursement('/data/visits.csv','/data/negotiated_rates.json')[1]['SLU Hospital']\n",
      "Expecting:\n",
      "    409.67\n",
      "ok\n",
      "Trying:\n",
      "    summarize_reimbursement('/data/visits.csv','/data/negotiated_rates.json')[1]['Barnes Jewish']\n",
      "Expecting:\n",
      "    485.7\n",
      "ok\n"
     ]
    }
   ],
   "source": [
    "import doctest\n",
    "doctest.run_docstring_examples(summarize_reimbursement, globals(), verbose=True)"
   ]
  },
  {
   "cell_type": "code",
   "execution_count": 13,
   "metadata": {},
   "outputs": [],
   "source": [
    "assert (summarize_reimbursement('/data/visits.csv','/data/negotiated_rates.json')[0]['2021-07'] == 277.67)\n",
    "assert (summarize_reimbursement('/data/visits.csv','/data/negotiated_rates.json')[0]['2021-03'] == 378.72)\n",
    "assert (summarize_reimbursement('/data/visits.csv','/data/negotiated_rates.json')[1]['Mercy St. Louis'] == 380.07)\n",
    "assert (summarize_reimbursement('/data/visits.csv','/data/negotiated_rates.json')[1]['Mercy Springfield'] == 518.59)"
   ]
  },
  {
   "cell_type": "code",
   "execution_count": null,
   "metadata": {},
   "outputs": [],
   "source": []
  }
 ],
 "metadata": {
  "kernelspec": {
   "display_name": "Python 3",
   "language": "python",
   "name": "python3"
  },
  "language_info": {
   "codemirror_mode": {
    "name": "ipython",
    "version": 3
   },
   "file_extension": ".py",
   "mimetype": "text/x-python",
   "name": "python",
   "nbconvert_exporter": "python",
   "pygments_lexer": "ipython3",
   "version": "3.6.7"
  }
 },
 "nbformat": 4,
 "nbformat_minor": 4
}
